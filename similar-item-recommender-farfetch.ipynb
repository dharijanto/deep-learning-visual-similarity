{
 "cells": [
  {
   "cell_type": "code",
   "execution_count": 1,
   "metadata": {},
   "outputs": [
    {
     "name": "stderr",
     "output_type": "stream",
     "text": [
      "Using TensorFlow backend.\n"
     ]
    },
    {
     "data": {
      "text/plain": [
       "'2.1.0'"
      ]
     },
     "execution_count": 1,
     "metadata": {},
     "output_type": "execute_result"
    }
   ],
   "source": [
    "from mpl_toolkits.mplot3d import Axes3D\n",
    "from sklearn.preprocessing import StandardScaler\n",
    "import matplotlib.pyplot as plt # plotting\n",
    "import matplotlib.image as mpimg\n",
    "import numpy as np # linear algebra\n",
    "import pandas as pd # data processing, CSV file I/O (e.g. pd.read_csv)\n",
    "import os # accessing directory structure\n",
    "import cv2\n",
    "import matplotlib.pyplot as plt\n",
    "import numpy as np\n",
    "import tensorflow as tf\n",
    "import keras\n",
    "from keras import Model\n",
    "from keras.applications.resnet50 import ResNet50\n",
    "from keras.preprocessing import image\n",
    "from keras.applications.resnet50 import preprocess_input, decode_predictions\n",
    "from keras.layers import GlobalMaxPooling2D\n",
    "tf.__version__\n"
   ]
  },
  {
   "cell_type": "code",
   "execution_count": 2,
   "metadata": {},
   "outputs": [],
   "source": [
    "# Function definitions\n",
    "\n",
    "def plot_figures(figures, nrows = 1, ncols=1,figsize=(8, 8)):\n",
    "    \"\"\"Plot a dictionary of figures.\n",
    "\n",
    "    Parameters\n",
    "    ----------\n",
    "    figures : <title, figure> dictionary\n",
    "    ncols : number of columns of subplots wanted in the display\n",
    "    nrows : number of rows of subplots wanted in the figure\n",
    "    \"\"\"\n",
    "\n",
    "    fig, axeslist = plt.subplots(ncols=ncols, nrows=nrows,figsize=figsize)\n",
    "    for ind,title in enumerate(figures):\n",
    "        axeslist.ravel()[ind].imshow(cv2.cvtColor(figures[title], cv2.COLOR_BGR2RGB))\n",
    "        axeslist.ravel()[ind].set_title(title)\n",
    "        axeslist.ravel()[ind].set_axis_off()\n",
    "    plt.tight_layout() # optional\n",
    "    \n",
    "def load_image(image_path, img, resized_fac = 1):\n",
    "    img     = cv2.imread(image_path + img)\n",
    "    w, h, _ = img.shape\n",
    "    resized = cv2.resize(img, (int(h*resized_fac), int(w*resized_fac)), interpolation = cv2.INTER_AREA)\n",
    "    return resized\n",
    "\n",
    "def get_embedding(model, img_path, img_name):\n",
    "    # Reshape\n",
    "    img = image.load_img(img_path + img_name, target_size=(img_width, img_height))\n",
    "    # img to Array\n",
    "    x   = image.img_to_array(img)\n",
    "    # Expand Dim (1, w, h)\n",
    "    x   = np.expand_dims(x, axis=0)\n",
    "    # Pre process Input\n",
    "    x   = preprocess_input(x)\n",
    "    return model.predict(x).reshape(-1)\n",
    "\n",
    "def get_recommender(indices, idx, top_n = 5):\n",
    "    sim_idx    = indices[idx]\n",
    "    sim_scores = list(enumerate(cosine_sim[sim_idx]))\n",
    "    sim_scores = sorted(sim_scores, key=lambda x: x[1], reverse=True)\n",
    "    sim_scores = sim_scores[1:top_n+1]\n",
    "    idx_rec    = [i[0] for i in sim_scores]\n",
    "    idx_sim    = [i[1] for i in sim_scores]\n",
    "    \n",
    "    return indices.iloc[idx_rec].index, idx_sim\n",
    "\n",
    "def get_recommendation(similarity_matrix, idx, top_n = 5):\n",
    "    scores = list(enumerate(similarity_matrix[idx]))\n",
    "    scores = sorted(scores, key=lambda x: x[1], reverse=True)\n",
    "    scores = scores[1:top_n + 1]\n",
    "    return scores\n",
    "\n",
    "def get_first_filename_startswith(files_dict, prefix):\n",
    "    files_dict\n"
   ]
  },
  {
   "cell_type": "code",
   "execution_count": 13,
   "metadata": {},
   "outputs": [],
   "source": [
    "# Dataset definition\n",
    "DATA_SET = 'myntra'\n",
    "\n",
    "if DATA_SET == 'farfetch':\n",
    "    BASE_PATH = 'D:\\machine-learning\\datasets\\\\farfetch-listings\\\\'\n",
    "    IMAGE_PATH = BASE_PATH + 'cutout-img\\processed\\\\'\n",
    "elif DATA_SET == 'myntra':\n",
    "    BASE_PATH = 'D:\\\\machine-learning\\\\datasets\\\\fashion-product-images-small\\\\myntradataset\\\\'\n",
    "    IMAGE_PATH = BASE_PATH + 'images\\\\'\n",
    "else:\n",
    "    raise Error('Unexpected dataset')\n",
    "    \n",
    "# print(os.listdir(IMAGE_PATH)[:10])"
   ]
  },
  {
   "cell_type": "code",
   "execution_count": 14,
   "metadata": {},
   "outputs": [
    {
     "data": {
      "text/plain": [
       "'10000.jpg'"
      ]
     },
     "execution_count": 14,
     "metadata": {},
     "output_type": "execute_result"
    }
   ],
   "source": [
    "# Save farfetch brand list into a CSV for lead-generation\n",
    "# df['brand.name'].value_counts().sort_values(ascending=False).to_csv(\"C:\\\\Users\\\\User\\\\Downloads\\\\brand-list.csv\")\n",
    "#df['brand.name']\n",
    "# Create data frame from image folder\n",
    "df_image_folder = pd.DataFrame(os.listdir(IMAGE_PATH), columns=['name'])\n",
    "df_image_folder = df_image_folder.reset_index(drop=True)\n",
    "df_image_folder['name'][0]"
   ]
  },
  {
   "cell_type": "code",
   "execution_count": 5,
   "metadata": {},
   "outputs": [
    {
     "name": "stderr",
     "output_type": "stream",
     "text": [
      "C:\\Users\\User\\Anaconda3\\envs\\cnn\\lib\\site-packages\\keras_applications\\resnet50.py:265: UserWarning: The output shape of `ResNet50(include_top=False)` has been changed since Keras 2.2.0.\n",
      "  warnings.warn('The output shape of `ResNet50(include_top=False)` '\n"
     ]
    },
    {
     "name": "stdout",
     "output_type": "stream",
     "text": [
      "Model: \"sequential_1\"\n",
      "_________________________________________________________________\n",
      "Layer (type)                 Output Shape              Param #   \n",
      "=================================================================\n",
      "resnet50 (Model)             (None, 3, 2, 2048)        23587712  \n",
      "_________________________________________________________________\n",
      "global_max_pooling2d_1 (Glob (None, 2048)              0         \n",
      "=================================================================\n",
      "Total params: 23,587,712\n",
      "Trainable params: 0\n",
      "Non-trainable params: 23,587,712\n",
      "_________________________________________________________________\n"
     ]
    }
   ],
   "source": [
    "# Input Shape\n",
    "#img_width, img_height, _ = load_image(IMAGE_PATH, df.iloc[0].image).shape\n",
    "#img_width, img_height, _ = load_image(IMAGE_PATH, df.iloc[0].image).shape\n",
    "#img_width, img_height, _ = 224, 224, 3\n",
    "img_width, img_height, _ = load_image(IMAGE_PATH, df_image_folder.iloc[0][0]).shape\n",
    "\n",
    "# Pre-Trained Model\n",
    "base_model = ResNet50(weights='imagenet', \n",
    "                      include_top=False, \n",
    "                      input_shape = (img_width, img_height, 3))\n",
    "base_model.trainable = False\n",
    "\n",
    "# Add Layer Embedding\n",
    "model = keras.Sequential([\n",
    "    base_model,\n",
    "    GlobalMaxPooling2D()\n",
    "])\n",
    "\n",
    "model.summary()"
   ]
  },
  {
   "cell_type": "code",
   "execution_count": 6,
   "metadata": {},
   "outputs": [
    {
     "data": {
      "text/plain": [
       "(2048,)"
      ]
     },
     "execution_count": 6,
     "metadata": {},
     "output_type": "execute_result"
    }
   ],
   "source": [
    "# Try out the embedding once, see if it works\n",
    "#emb = get_embedding(model, IMAGE_PATH, df.iloc[0].image)\n",
    "emb = get_embedding(model, IMAGE_PATH, df_image_folder.iloc[0][0])\n",
    "emb.shape"
   ]
  },
  {
   "cell_type": "code",
   "execution_count": 19,
   "metadata": {},
   "outputs": [
    {
     "name": "stdout",
     "output_type": "stream",
     "text": [
      "(80, 60, 3)\n",
      "[0.09998199 1.2708011  4.925384   ... 0.20934463 1.5759482  1.515537  ]\n"
     ]
    },
    {
     "data": {
      "image/png": "[encoded data removed]",
      "text/plain": [
       "<Figure size 432x288 with 1 Axes>"
      ]
     },
     "metadata": {
      "needs_background": "light"
     },
     "output_type": "display_data"
    }
   ],
   "source": [
    "# img_array = load_image(IMAGE_PATH, df.iloc[0].image)\n",
    "img_array = load_image(IMAGE_PATH, df_image_folder.iloc[0][0])\n",
    "plt.imshow(cv2.cvtColor(img_array, cv2.COLOR_BGR2RGB))\n",
    "print(img_array.shape)\n",
    "print(emb)"
   ]
  },
  {
   "cell_type": "code",
   "execution_count": 36,
   "metadata": {},
   "outputs": [
    {
     "name": "stdout",
     "output_type": "stream",
     "text": [
      "0    10000.jpg\n",
      "1    10001.jpg\n",
      "2    10002.jpg\n",
      "3    10003.jpg\n",
      "4    10004.jpg\n",
      "Name: name, dtype: object\n"
     ]
    }
   ],
   "source": [
    "map_embeddings = df_image_folder[0:5]['name']\n",
    "print(map_embeddings)"
   ]
  },
  {
   "cell_type": "code",
   "execution_count": 37,
   "metadata": {},
   "outputs": [
    {
     "name": "stdout",
     "output_type": "stream",
     "text": [
      "(5000, 2048)\n",
      "Wall time: 18min 52s\n"
     ]
    },
    {
     "data": {
      "text/html": [
       "<div>\n",
       "<style scoped>\n",
       "    .dataframe tbody tr th:only-of-type {\n",
       "        vertical-align: middle;\n",
       "    }\n",
       "\n",
       "    .dataframe tbody tr th {\n",
       "        vertical-align: top;\n",
       "    }\n",
       "\n",
       "    .dataframe thead th {\n",
       "        text-align: right;\n",
       "    }\n",
       "</style>\n",
       "<table border=\"1\" class=\"dataframe\">\n",
       "  <thead>\n",
       "    <tr style=\"text-align: right;\">\n",
       "      <th></th>\n",
       "      <th>0</th>\n",
       "      <th>1</th>\n",
       "      <th>2</th>\n",
       "      <th>3</th>\n",
       "      <th>4</th>\n",
       "      <th>5</th>\n",
       "      <th>6</th>\n",
       "      <th>7</th>\n",
       "      <th>8</th>\n",
       "      <th>9</th>\n",
       "      <th>...</th>\n",
       "      <th>2038</th>\n",
       "      <th>2039</th>\n",
       "      <th>2040</th>\n",
       "      <th>2041</th>\n",
       "      <th>2042</th>\n",
       "      <th>2043</th>\n",
       "      <th>2044</th>\n",
       "      <th>2045</th>\n",
       "      <th>2046</th>\n",
       "      <th>2047</th>\n",
       "    </tr>\n",
       "  </thead>\n",
       "  <tbody>\n",
       "    <tr>\n",
       "      <th>0</th>\n",
       "      <td>0.099982</td>\n",
       "      <td>1.270801</td>\n",
       "      <td>4.925384</td>\n",
       "      <td>0.00000</td>\n",
       "      <td>0.000000</td>\n",
       "      <td>0.000000</td>\n",
       "      <td>0.000000</td>\n",
       "      <td>0.276951</td>\n",
       "      <td>0.893493</td>\n",
       "      <td>0.000000</td>\n",
       "      <td>...</td>\n",
       "      <td>0.000000</td>\n",
       "      <td>0.000000</td>\n",
       "      <td>1.245008</td>\n",
       "      <td>0.000000</td>\n",
       "      <td>0.000000</td>\n",
       "      <td>0.000000</td>\n",
       "      <td>3.609418</td>\n",
       "      <td>0.209345</td>\n",
       "      <td>1.575948</td>\n",
       "      <td>1.515537</td>\n",
       "    </tr>\n",
       "    <tr>\n",
       "      <th>1</th>\n",
       "      <td>0.000000</td>\n",
       "      <td>2.745010</td>\n",
       "      <td>0.000000</td>\n",
       "      <td>0.00000</td>\n",
       "      <td>10.589779</td>\n",
       "      <td>4.606511</td>\n",
       "      <td>2.530780</td>\n",
       "      <td>3.350651</td>\n",
       "      <td>0.000000</td>\n",
       "      <td>0.000000</td>\n",
       "      <td>...</td>\n",
       "      <td>0.826959</td>\n",
       "      <td>0.000000</td>\n",
       "      <td>1.730045</td>\n",
       "      <td>0.000000</td>\n",
       "      <td>0.000000</td>\n",
       "      <td>0.241079</td>\n",
       "      <td>0.647665</td>\n",
       "      <td>0.000000</td>\n",
       "      <td>2.544854</td>\n",
       "      <td>7.604298</td>\n",
       "    </tr>\n",
       "    <tr>\n",
       "      <th>2</th>\n",
       "      <td>0.000000</td>\n",
       "      <td>3.402556</td>\n",
       "      <td>2.577542</td>\n",
       "      <td>0.00000</td>\n",
       "      <td>2.923137</td>\n",
       "      <td>3.250218</td>\n",
       "      <td>0.606352</td>\n",
       "      <td>1.925450</td>\n",
       "      <td>0.000000</td>\n",
       "      <td>0.000000</td>\n",
       "      <td>...</td>\n",
       "      <td>0.000000</td>\n",
       "      <td>0.000000</td>\n",
       "      <td>0.648463</td>\n",
       "      <td>0.000000</td>\n",
       "      <td>2.098540</td>\n",
       "      <td>0.000000</td>\n",
       "      <td>1.026958</td>\n",
       "      <td>0.000000</td>\n",
       "      <td>0.000000</td>\n",
       "      <td>6.455042</td>\n",
       "    </tr>\n",
       "    <tr>\n",
       "      <th>3</th>\n",
       "      <td>0.195940</td>\n",
       "      <td>19.293938</td>\n",
       "      <td>4.028438</td>\n",
       "      <td>0.00000</td>\n",
       "      <td>0.000000</td>\n",
       "      <td>6.786288</td>\n",
       "      <td>0.000000</td>\n",
       "      <td>0.162408</td>\n",
       "      <td>4.108119</td>\n",
       "      <td>0.189785</td>\n",
       "      <td>...</td>\n",
       "      <td>1.037168</td>\n",
       "      <td>0.088405</td>\n",
       "      <td>2.396965</td>\n",
       "      <td>2.589875</td>\n",
       "      <td>2.035435</td>\n",
       "      <td>0.000000</td>\n",
       "      <td>8.821429</td>\n",
       "      <td>0.000000</td>\n",
       "      <td>2.902439</td>\n",
       "      <td>13.621208</td>\n",
       "    </tr>\n",
       "    <tr>\n",
       "      <th>4</th>\n",
       "      <td>0.304436</td>\n",
       "      <td>7.557014</td>\n",
       "      <td>0.000000</td>\n",
       "      <td>2.77527</td>\n",
       "      <td>0.142011</td>\n",
       "      <td>1.165267</td>\n",
       "      <td>0.000000</td>\n",
       "      <td>7.130860</td>\n",
       "      <td>2.403404</td>\n",
       "      <td>0.000000</td>\n",
       "      <td>...</td>\n",
       "      <td>0.000000</td>\n",
       "      <td>0.000000</td>\n",
       "      <td>0.000000</td>\n",
       "      <td>0.000000</td>\n",
       "      <td>0.000000</td>\n",
       "      <td>1.641698</td>\n",
       "      <td>0.671759</td>\n",
       "      <td>0.000000</td>\n",
       "      <td>0.998073</td>\n",
       "      <td>7.229319</td>\n",
       "    </tr>\n",
       "  </tbody>\n",
       "</table>\n",
       "<p>5 rows × 2048 columns</p>\n",
       "</div>"
      ],
      "text/plain": [
       "       0          1         2        3          4         5         6     \\\n",
       "0  0.099982   1.270801  4.925384  0.00000   0.000000  0.000000  0.000000   \n",
       "1  0.000000   2.745010  0.000000  0.00000  10.589779  4.606511  2.530780   \n",
       "2  0.000000   3.402556  2.577542  0.00000   2.923137  3.250218  0.606352   \n",
       "3  0.195940  19.293938  4.028438  0.00000   0.000000  6.786288  0.000000   \n",
       "4  0.304436   7.557014  0.000000  2.77527   0.142011  1.165267  0.000000   \n",
       "\n",
       "       7         8         9     ...      2038      2039      2040      2041  \\\n",
       "0  0.276951  0.893493  0.000000  ...  0.000000  0.000000  1.245008  0.000000   \n",
       "1  3.350651  0.000000  0.000000  ...  0.826959  0.000000  1.730045  0.000000   \n",
       "2  1.925450  0.000000  0.000000  ...  0.000000  0.000000  0.648463  0.000000   \n",
       "3  0.162408  4.108119  0.189785  ...  1.037168  0.088405  2.396965  2.589875   \n",
       "4  7.130860  2.403404  0.000000  ...  0.000000  0.000000  0.000000  0.000000   \n",
       "\n",
       "       2042      2043      2044      2045      2046       2047  \n",
       "0  0.000000  0.000000  3.609418  0.209345  1.575948   1.515537  \n",
       "1  0.000000  0.241079  0.647665  0.000000  2.544854   7.604298  \n",
       "2  2.098540  0.000000  1.026958  0.000000  0.000000   6.455042  \n",
       "3  2.035435  0.000000  8.821429  0.000000  2.902439  13.621208  \n",
       "4  0.000000  1.641698  0.671759  0.000000  0.998073   7.229319  \n",
       "\n",
       "[5 rows x 2048 columns]"
      ]
     },
     "execution_count": 37,
     "metadata": {},
     "output_type": "execute_result"
    }
   ],
   "source": [
    "%%time\n",
    "#import swifter\n",
    "\n",
    "# Source from CSV\n",
    "# Parallel apply\n",
    "#df_sample      = df.sample(500)\n",
    "#map_embeddings = df_sample['image'].apply(lambda img: get_embedding(model, IMAGE_PATH, img))\n",
    "# Source from image folder directly\n",
    "\n",
    "# Source from folder directly\n",
    "map_embeddings = df_image_folder[0:5000]['name'].apply(lambda img: get_embedding(model, IMAGE_PATH, img))\n",
    "df_embs        = map_embeddings.apply(pd.Series)\n",
    "\n",
    "print(df_embs.shape)\n",
    "df_embs.head()"
   ]
  },
  {
   "cell_type": "code",
   "execution_count": 9,
   "metadata": {},
   "outputs": [
    {
     "data": {
      "text/plain": [
       "array([[1.        , 0.24704456, 0.21707928, 0.18849671],\n",
       "       [0.24704456, 1.        , 0.25805402, 0.4160623 ],\n",
       "       [0.21707928, 0.25805402, 1.        , 0.2845739 ],\n",
       "       [0.18849671, 0.4160623 , 0.2845739 , 0.9999994 ]], dtype=float32)"
      ]
     },
     "execution_count": 9,
     "metadata": {},
     "output_type": "execute_result"
    }
   ],
   "source": [
    "# https://scikit-learn.org/stable/modules/generated/sklearn.metrics.pairwise_distances.html\n",
    "from sklearn.metrics.pairwise import pairwise_distances\n",
    "\n",
    "# Calcule DIstance Matriz\n",
    "cosine_sim = 1-pairwise_distances(df_embs, metric='cosine')\n",
    "\n",
    "cosine_sim[:4, :4]"
   ]
  },
  {
   "cell_type": "code",
   "execution_count": 10,
   "metadata": {},
   "outputs": [
    {
     "name": "stdout",
     "output_type": "stream",
     "text": [
      "[1.         0.24704456 0.21707928 ... 0.30759078 0.68229353 0.43505585]\n"
     ]
    }
   ],
   "source": [
    "print(cosine_sim[0])"
   ]
  },
  {
   "cell_type": "code",
   "execution_count": 11,
   "metadata": {},
   "outputs": [
    {
     "name": "stdout",
     "output_type": "stream",
     "text": [
      "[(2617, 0.7274262), (3783, 0.68677723), (2067, 0.6465361), (2479, 0.6212291), (4356, 0.6030657)]\n"
     ]
    }
   ],
   "source": [
    "# indices = pd.Series(range(len(df_embs)), index=df.index)\n",
    "print(get_recommendation(cosine_sim, 133, top_n = 5))\n",
    "# print(indices)"
   ]
  },
  {
   "cell_type": "code",
   "execution_count": 18,
   "metadata": {},
   "outputs": [
    {
     "name": "stdout",
     "output_type": "stream",
     "text": [
      "[(2070, 0.78056544), (1119, 0.74829847), (1683, 0.7371534), (4002, 0.7331656), (764, 0.72935647)]\n"
     ]
    },
    {
     "data": {
      "image/png": "[encoded data removed]",
      "text/plain": [
       "<Figure size 432x288 with 1 Axes>"
      ]
     },
     "metadata": {
      "needs_background": "light"
     },
     "output_type": "display_data"
    },
    {
     "data": {
      "image/png": "[encoded data removed]",
      "text/plain": [
       "<Figure size 576x576 with 6 Axes>"
      ]
     },
     "metadata": {
      "needs_background": "light"
     },
     "output_type": "display_data"
    }
   ],
   "source": [
    "# Idx Item to Recommender\n",
    "idx_ref = 3908\n",
    "\n",
    "\n",
    "# Recommendations\n",
    "#idx_rec, idx_sim = get_recommender(indices, idx_ref, top_n = 6)\n",
    "\n",
    "recommendations = get_recommendation(cosine_sim, idx_ref, top_n = 5)\n",
    "print(recommendations)\n",
    "\n",
    "\n",
    "# Plot\n",
    "#===================\n",
    "# plt.imshow(cv2.cvtColor(load_image(IMAGE_PATH, df.iloc[idx_ref].image), cv2.COLOR_BGR2RGB))\n",
    "plt.imshow(cv2.cvtColor(load_image(IMAGE_PATH, df_image_folder.iloc[idx_ref][0]), cv2.COLOR_BGR2RGB))\n",
    "\n",
    "# generation of a dictionary of (title, images)\n",
    "#figures = {'im'+str(i): load_image(IMAGE_PATH,row.image) for i, row in df.loc[idx_rec].iterrows()}\n",
    "# figures = {'im'+str(i): load_image(IMAGE_PATH,row[0]) for i, row in df_image_folder.loc[idx_rec].iterrows()}\n",
    "\n",
    "figures = {}\n",
    "for rec in recommendations:\n",
    "    figures[rec[0]] = load_image(IMAGE_PATH, df_image_folder.loc[rec[0]][0])\n",
    "# figures = {'im'+str(rec[1]): load_image(IMAGE_PATH, df_image_folder.loc[rec[0]][0]) }\n",
    "#print(figures)\n",
    "# plot of the images in a figure, with 2 rows and 3 columns\n",
    "plot_figures(figures, 2, 3)"
   ]
  },
  {
   "cell_type": "code",
   "execution_count": null,
   "metadata": {},
   "outputs": [],
   "source": []
  },
  {
   "cell_type": "code",
   "execution_count": null,
   "metadata": {},
   "outputs": [],
   "source": []
  }
 ],
 "metadata": {
  "kernelspec": {
   "display_name": "Python 3",
   "language": "python",
   "name": "python3"
  },
  "language_info": {
   "codemirror_mode": {
    "name": "ipython",
    "version": 3
   },
   "file_extension": ".py",
   "mimetype": "text/x-python",
   "name": "python",
   "nbconvert_exporter": "python",
   "pygments_lexer": "ipython3",
   "version": "3.7.6"
  }
 },
 "nbformat": 4,
 "nbformat_minor": 4
}
