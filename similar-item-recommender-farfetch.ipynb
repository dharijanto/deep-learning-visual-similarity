{
 "cells": [
  {
   "cell_type": "code",
   "execution_count": 1,
   "metadata": {},
   "outputs": [
    {
     "name": "stderr",
     "output_type": "stream",
     "text": [
      "Using TensorFlow backend.\n"
     ]
    },
    {
     "data": {
      "text/plain": [
       "'2.1.0'"
      ]
     },
     "execution_count": 1,
     "metadata": {},
     "output_type": "execute_result"
    }
   ],
   "source": [
    "from mpl_toolkits.mplot3d import Axes3D\n",
    "from sklearn.preprocessing import StandardScaler\n",
    "import matplotlib.pyplot as plt # plotting\n",
    "import matplotlib.image as mpimg\n",
    "import numpy as np # linear algebra\n",
    "import pandas as pd # data processing, CSV file I/O (e.g. pd.read_csv)\n",
    "import os # accessing directory structure\n",
    "import cv2\n",
    "import matplotlib.pyplot as plt\n",
    "import numpy as np\n",
    "import tensorflow as tf\n",
    "import keras\n",
    "from keras import Model\n",
    "from keras.applications.resnet50 import ResNet50\n",
    "from keras.preprocessing import image\n",
    "from keras.applications.resnet50 import preprocess_input, decode_predictions\n",
    "from keras.layers import GlobalMaxPooling2D\n",
    "tf.__version__\n"
   ]
  },
  {
   "cell_type": "code",
   "execution_count": 216,
   "metadata": {},
   "outputs": [],
   "source": [
    "# Function definitions\n",
    "\n",
    "def plot_figures(figures, nrows = 1, ncols=1,figsize=(8, 8)):\n",
    "    \"\"\"Plot a dictionary of figures.\n",
    "\n",
    "    Parameters\n",
    "    ----------\n",
    "    figures : <title, figure> dictionary\n",
    "    ncols : number of columns of subplots wanted in the display\n",
    "    nrows : number of rows of subplots wanted in the figure\n",
    "    \"\"\"\n",
    "\n",
    "    fig, axeslist = plt.subplots(ncols=ncols, nrows=nrows,figsize=figsize)\n",
    "    for ind,title in enumerate(figures):\n",
    "        axeslist.ravel()[ind].imshow(cv2.cvtColor(figures[title], cv2.COLOR_BGR2RGB))\n",
    "        axeslist.ravel()[ind].set_title(title)\n",
    "        axeslist.ravel()[ind].set_axis_off()\n",
    "    plt.tight_layout() # optional\n",
    "    \n",
    "def load_image(image_path, img, resized_fac = 1):\n",
    "    img     = cv2.imread(image_path + img)\n",
    "    w, h, _ = img.shape\n",
    "    resized = cv2.resize(img, (int(h*resized_fac), int(w*resized_fac)), interpolation = cv2.INTER_AREA)\n",
    "    return resized\n",
    "\n",
    "def get_embedding(model, img_path, img_name):\n",
    "    # Reshape\n",
    "    img = image.load_img(img_path + img_name, target_size=(img_width, img_height))\n",
    "    # img to Array\n",
    "    x   = image.img_to_array(img)\n",
    "    # Expand Dim (1, w, h)\n",
    "    x   = np.expand_dims(x, axis=0)\n",
    "    # Pre process Input\n",
    "    x   = preprocess_input(x)\n",
    "    return model.predict(x).reshape(-1)\n",
    "\n",
    "def get_recommender(indices, idx, top_n = 5):\n",
    "    sim_idx    = indices[idx]\n",
    "    sim_scores = list(enumerate(cosine_sim[sim_idx]))\n",
    "    sim_scores = sorted(sim_scores, key=lambda x: x[1], reverse=True)\n",
    "    sim_scores = sim_scores[1:top_n+1]\n",
    "    idx_rec    = [i[0] for i in sim_scores]\n",
    "    idx_sim    = [i[1] for i in sim_scores]\n",
    "    \n",
    "    return indices.iloc[idx_rec].index, idx_sim\n",
    "\n",
    "def get_recommendation(similarity_matrix, idx, top_n = 5):\n",
    "    scores = list(enumerate(similarity_matrix[idx]))\n",
    "    scores = sorted(scores, key=lambda x: x[1], reverse=True)\n",
    "    scores = scores[1:top_n + 1]\n",
    "    return scores\n",
    "\n",
    "def get_first_filename_startswith(files_dict, prefix):\n",
    "    files_dict\n"
   ]
  },
  {
   "cell_type": "code",
   "execution_count": 231,
   "metadata": {},
   "outputs": [
    {
     "data": {
      "text/plain": [
       "\"\\n# Build file names dictiornary\\n# TODO: Handle multiple files with the same prefix\\nfiles = os.listdir(IMAGE_PATH)\\nfiles_dict = {}\\nfor file in files:\\n    files_dict[file.split('_')[0]] = file\\n\\n#print(files_dict['10047567'])\\ndf = pd.read_csv(CSV_PATH, error_bad_lines=False)\\n# print(df.keys())\\ndf['image'] = df.apply(lambda row: files_dict[str(row['id'])], axis=1)\\n# print(df.keys())\\ndf = df.reset_index(drop=True)\\n\\nsamples = df.sample(6)\\n# Print out first 6 samples\\nfor (i, s) in samples.iterrows():\\n    print(s.image)\\n\\n# generation of a dictionary of (title, images)\\nfigures = {'im'+str(i): load_image(IMAGE_PATH, row.image) for i, row in samples.iterrows()}\\n# plot of the images in a figure, with 2 rows and 3 columns\\nplot_figures(figures, 2, 3)\\nplt.figure(figsize=(10,130))\\ndf['brand.name'].value_counts().sort_values().plot(kind='barh')\\n\""
      ]
     },
     "execution_count": 231,
     "metadata": {},
     "output_type": "execute_result"
    }
   ],
   "source": [
    "# Dataset definition\n",
    "DATA_SET = 'myntra'\n",
    "\n",
    "if DATA_SET == 'farfetch':\n",
    "    BASE_PATH = 'D:\\machine-learning\\datasets\\\\farfetch-listings\\\\'\n",
    "    IMAGE_PATH = BASE_PATH + 'cutout-img\\processed\\\\'\n",
    "elif DATA_SET == 'myntra':\n",
    "    BASE_PATH = 'D:\\\\machine-learning\\\\datasets\\\\fashion-product-images-small\\\\myntradataset\\\\'\n",
    "    IMAGE_PATH = BASE_PATH + 'images\\\\'\n",
    "else:\n",
    "    raise Error('Unexpected dataset')\n",
    "    \n",
    "# print(os.listdir(IMAGE_PATH)[:10])\n",
    "\n",
    "\"\"\"\n",
    "# Build file names dictiornary\n",
    "# TODO: Handle multiple files with the same prefix\n",
    "files = os.listdir(IMAGE_PATH)\n",
    "files_dict = {}\n",
    "for file in files:\n",
    "    files_dict[file.split('_')[0]] = file\n",
    "\n",
    "#print(files_dict['10047567'])\n",
    "df = pd.read_csv(CSV_PATH, error_bad_lines=False)\n",
    "# print(df.keys())\n",
    "df['image'] = df.apply(lambda row: files_dict[str(row['id'])], axis=1)\n",
    "# print(df.keys())\n",
    "df = df.reset_index(drop=True)\n",
    "\n",
    "samples = df.sample(6)\n",
    "# Print out first 6 samples\n",
    "for (i, s) in samples.iterrows():\n",
    "    print(s.image)\n",
    "\n",
    "# generation of a dictionary of (title, images)\n",
    "figures = {'im'+str(i): load_image(IMAGE_PATH, row.image) for i, row in samples.iterrows()}\n",
    "# plot of the images in a figure, with 2 rows and 3 columns\n",
    "plot_figures(figures, 2, 3)\n",
    "plt.figure(figsize=(10,130))\n",
    "df['brand.name'].value_counts().sort_values().plot(kind='barh')\n",
    "\"\"\""
   ]
  },
  {
   "cell_type": "code",
   "execution_count": 232,
   "metadata": {},
   "outputs": [
    {
     "data": {
      "text/plain": [
       "'10000.jpg'"
      ]
     },
     "execution_count": 232,
     "metadata": {},
     "output_type": "execute_result"
    }
   ],
   "source": [
    "# Save farfetch brand list into a CSV for lead-generation\n",
    "# df['brand.name'].value_counts().sort_values(ascending=False).to_csv(\"C:\\\\Users\\\\User\\\\Downloads\\\\brand-list.csv\")\n",
    "#df['brand.name']\n",
    "# Create data frame from image folder\n",
    "df_image_folder = pd.DataFrame(os.listdir(IMAGE_PATH), columns=['name'])\n",
    "df_image_folder = df_image_folder.reset_index(drop=True)\n",
    "df_image_folder['name'][0]"
   ]
  },
  {
   "cell_type": "code",
   "execution_count": 240,
   "metadata": {},
   "outputs": [
    {
     "name": "stderr",
     "output_type": "stream",
     "text": [
      "C:\\Users\\User\\Anaconda3\\envs\\cnn\\lib\\site-packages\\keras_applications\\resnet50.py:265: UserWarning: The output shape of `ResNet50(include_top=False)` has been changed since Keras 2.2.0.\n",
      "  warnings.warn('The output shape of `ResNet50(include_top=False)` '\n"
     ]
    },
    {
     "name": "stdout",
     "output_type": "stream",
     "text": [
      "Model: \"sequential_7\"\n",
      "_________________________________________________________________\n",
      "Layer (type)                 Output Shape              Param #   \n",
      "=================================================================\n",
      "resnet50 (Model)             (None, 3, 2, 2048)        23587712  \n",
      "_________________________________________________________________\n",
      "global_max_pooling2d_7 (Glob (None, 2048)              0         \n",
      "=================================================================\n",
      "Total params: 23,587,712\n",
      "Trainable params: 0\n",
      "Non-trainable params: 23,587,712\n",
      "_________________________________________________________________\n"
     ]
    }
   ],
   "source": [
    "# Input Shape\n",
    "#img_width, img_height, _ = load_image(IMAGE_PATH, df.iloc[0].image).shape\n",
    "#img_width, img_height, _ = load_image(IMAGE_PATH, df.iloc[0].image).shape\n",
    "#img_width, img_height, _ = 224, 224, 3\n",
    "img_width, img_height, _ = load_image(IMAGE_PATH, df_image_folder.iloc[0][0]).shape\n",
    "\n",
    "# Pre-Trained Model\n",
    "base_model = ResNet50(weights='imagenet', \n",
    "                      include_top=False, \n",
    "                      input_shape = (img_width, img_height, 3))\n",
    "base_model.trainable = False\n",
    "\n",
    "# Add Layer Embedding\n",
    "model = keras.Sequential([\n",
    "    base_model,\n",
    "    GlobalMaxPooling2D()\n",
    "])\n",
    "\n",
    "model.summary()"
   ]
  },
  {
   "cell_type": "code",
   "execution_count": null,
   "metadata": {},
   "outputs": [],
   "source": [
    "# Try out the embedding once, see if it works\n",
    "#emb = get_embedding(model, IMAGE_PATH, df.iloc[0].image)\n",
    "emb = get_embedding(model, IMAGE_PATH, df_image_folder.iloc[0][0])\n",
    "emb.shape"
   ]
  },
  {
   "cell_type": "code",
   "execution_count": 234,
   "metadata": {},
   "outputs": [
    {
     "name": "stdout",
     "output_type": "stream",
     "text": [
      "(80, 60, 3)\n",
      "[ 0.          3.8547976   0.12220818 ...  2.9465737   6.312703\n",
      " 16.2688    ]\n"
     ]
    },
    {
     "data": {
      "image/png": "[encoded data removed]",
      "text/plain": [
       "<Figure size 432x288 with 1 Axes>"
      ]
     },
     "metadata": {
      "needs_background": "light"
     },
     "output_type": "display_data"
    }
   ],
   "source": [
    "# img_array = load_image(IMAGE_PATH, df.iloc[0].image)\n",
    "img_array = load_image(IMAGE_PATH, df_image_folder.iloc[0][0])\n",
    "plt.imshow(cv2.cvtColor(img_array, cv2.COLOR_BGR2RGB))\n",
    "print(img_array.shape)\n",
    "print(emb)"
   ]
  },
  {
   "cell_type": "code",
   "execution_count": 235,
   "metadata": {},
   "outputs": [
    {
     "name": "stdout",
     "output_type": "stream",
     "text": [
      "(500, 2048)\n",
      "Wall time: 55.2 s\n"
     ]
    },
    {
     "data": {
      "text/html": [
       "<div>\n",
       "<style scoped>\n",
       "    .dataframe tbody tr th:only-of-type {\n",
       "        vertical-align: middle;\n",
       "    }\n",
       "\n",
       "    .dataframe tbody tr th {\n",
       "        vertical-align: top;\n",
       "    }\n",
       "\n",
       "    .dataframe thead th {\n",
       "        text-align: right;\n",
       "    }\n",
       "</style>\n",
       "<table border=\"1\" class=\"dataframe\">\n",
       "  <thead>\n",
       "    <tr style=\"text-align: right;\">\n",
       "      <th></th>\n",
       "      <th>0</th>\n",
       "      <th>1</th>\n",
       "      <th>2</th>\n",
       "      <th>3</th>\n",
       "      <th>4</th>\n",
       "      <th>5</th>\n",
       "      <th>6</th>\n",
       "      <th>7</th>\n",
       "      <th>8</th>\n",
       "      <th>9</th>\n",
       "      <th>...</th>\n",
       "      <th>2038</th>\n",
       "      <th>2039</th>\n",
       "      <th>2040</th>\n",
       "      <th>2041</th>\n",
       "      <th>2042</th>\n",
       "      <th>2043</th>\n",
       "      <th>2044</th>\n",
       "      <th>2045</th>\n",
       "      <th>2046</th>\n",
       "      <th>2047</th>\n",
       "    </tr>\n",
       "  </thead>\n",
       "  <tbody>\n",
       "    <tr>\n",
       "      <th>13302</th>\n",
       "      <td>2.295955</td>\n",
       "      <td>0.958775</td>\n",
       "      <td>1.957442</td>\n",
       "      <td>1.368511</td>\n",
       "      <td>0.000000</td>\n",
       "      <td>0.000000</td>\n",
       "      <td>3.470710</td>\n",
       "      <td>2.613458</td>\n",
       "      <td>2.671781</td>\n",
       "      <td>2.701342</td>\n",
       "      <td>...</td>\n",
       "      <td>10.423183</td>\n",
       "      <td>2.811551</td>\n",
       "      <td>4.853899</td>\n",
       "      <td>15.864767</td>\n",
       "      <td>4.698837</td>\n",
       "      <td>0.000000</td>\n",
       "      <td>7.715560</td>\n",
       "      <td>5.365628</td>\n",
       "      <td>11.873835</td>\n",
       "      <td>10.563284</td>\n",
       "    </tr>\n",
       "    <tr>\n",
       "      <th>3900</th>\n",
       "      <td>2.863031</td>\n",
       "      <td>11.873957</td>\n",
       "      <td>0.402050</td>\n",
       "      <td>6.129001</td>\n",
       "      <td>1.957789</td>\n",
       "      <td>0.000000</td>\n",
       "      <td>0.762650</td>\n",
       "      <td>5.146824</td>\n",
       "      <td>3.050144</td>\n",
       "      <td>2.838167</td>\n",
       "      <td>...</td>\n",
       "      <td>14.014050</td>\n",
       "      <td>6.637495</td>\n",
       "      <td>0.000000</td>\n",
       "      <td>16.378925</td>\n",
       "      <td>4.760784</td>\n",
       "      <td>0.000000</td>\n",
       "      <td>4.964458</td>\n",
       "      <td>1.807124</td>\n",
       "      <td>2.269454</td>\n",
       "      <td>17.356930</td>\n",
       "    </tr>\n",
       "    <tr>\n",
       "      <th>4965</th>\n",
       "      <td>3.867638</td>\n",
       "      <td>0.000000</td>\n",
       "      <td>0.900444</td>\n",
       "      <td>2.012071</td>\n",
       "      <td>8.819162</td>\n",
       "      <td>10.188287</td>\n",
       "      <td>0.590117</td>\n",
       "      <td>0.162360</td>\n",
       "      <td>3.762663</td>\n",
       "      <td>0.000000</td>\n",
       "      <td>...</td>\n",
       "      <td>3.846876</td>\n",
       "      <td>11.584021</td>\n",
       "      <td>3.649596</td>\n",
       "      <td>0.828672</td>\n",
       "      <td>0.000000</td>\n",
       "      <td>2.827583</td>\n",
       "      <td>0.000000</td>\n",
       "      <td>3.401300</td>\n",
       "      <td>10.927177</td>\n",
       "      <td>0.000000</td>\n",
       "    </tr>\n",
       "    <tr>\n",
       "      <th>35578</th>\n",
       "      <td>2.017830</td>\n",
       "      <td>0.000000</td>\n",
       "      <td>13.174942</td>\n",
       "      <td>1.446754</td>\n",
       "      <td>7.014257</td>\n",
       "      <td>6.280538</td>\n",
       "      <td>1.949835</td>\n",
       "      <td>1.913734</td>\n",
       "      <td>1.227453</td>\n",
       "      <td>0.000000</td>\n",
       "      <td>...</td>\n",
       "      <td>0.000000</td>\n",
       "      <td>6.917223</td>\n",
       "      <td>10.185225</td>\n",
       "      <td>14.766788</td>\n",
       "      <td>4.937859</td>\n",
       "      <td>9.582973</td>\n",
       "      <td>9.565530</td>\n",
       "      <td>7.850185</td>\n",
       "      <td>8.916289</td>\n",
       "      <td>0.000000</td>\n",
       "    </tr>\n",
       "    <tr>\n",
       "      <th>19867</th>\n",
       "      <td>3.558548</td>\n",
       "      <td>2.581759</td>\n",
       "      <td>5.783289</td>\n",
       "      <td>2.640382</td>\n",
       "      <td>4.594468</td>\n",
       "      <td>0.000000</td>\n",
       "      <td>1.222656</td>\n",
       "      <td>3.446625</td>\n",
       "      <td>6.789725</td>\n",
       "      <td>0.000000</td>\n",
       "      <td>...</td>\n",
       "      <td>5.297695</td>\n",
       "      <td>8.298551</td>\n",
       "      <td>0.535658</td>\n",
       "      <td>0.000000</td>\n",
       "      <td>7.596961</td>\n",
       "      <td>5.658818</td>\n",
       "      <td>12.420562</td>\n",
       "      <td>1.854676</td>\n",
       "      <td>10.996902</td>\n",
       "      <td>0.000000</td>\n",
       "    </tr>\n",
       "  </tbody>\n",
       "</table>\n",
       "<p>5 rows × 2048 columns</p>\n",
       "</div>"
      ],
      "text/plain": [
       "           0          1          2         3         4          5     \\\n",
       "13302  2.295955   0.958775   1.957442  1.368511  0.000000   0.000000   \n",
       "3900   2.863031  11.873957   0.402050  6.129001  1.957789   0.000000   \n",
       "4965   3.867638   0.000000   0.900444  2.012071  8.819162  10.188287   \n",
       "35578  2.017830   0.000000  13.174942  1.446754  7.014257   6.280538   \n",
       "19867  3.558548   2.581759   5.783289  2.640382  4.594468   0.000000   \n",
       "\n",
       "           6         7         8         9     ...       2038       2039  \\\n",
       "13302  3.470710  2.613458  2.671781  2.701342  ...  10.423183   2.811551   \n",
       "3900   0.762650  5.146824  3.050144  2.838167  ...  14.014050   6.637495   \n",
       "4965   0.590117  0.162360  3.762663  0.000000  ...   3.846876  11.584021   \n",
       "35578  1.949835  1.913734  1.227453  0.000000  ...   0.000000   6.917223   \n",
       "19867  1.222656  3.446625  6.789725  0.000000  ...   5.297695   8.298551   \n",
       "\n",
       "            2040       2041      2042      2043       2044      2045  \\\n",
       "13302   4.853899  15.864767  4.698837  0.000000   7.715560  5.365628   \n",
       "3900    0.000000  16.378925  4.760784  0.000000   4.964458  1.807124   \n",
       "4965    3.649596   0.828672  0.000000  2.827583   0.000000  3.401300   \n",
       "35578  10.185225  14.766788  4.937859  9.582973   9.565530  7.850185   \n",
       "19867   0.535658   0.000000  7.596961  5.658818  12.420562  1.854676   \n",
       "\n",
       "            2046       2047  \n",
       "13302  11.873835  10.563284  \n",
       "3900    2.269454  17.356930  \n",
       "4965   10.927177   0.000000  \n",
       "35578   8.916289   0.000000  \n",
       "19867  10.996902   0.000000  \n",
       "\n",
       "[5 rows x 2048 columns]"
      ]
     },
     "execution_count": 235,
     "metadata": {},
     "output_type": "execute_result"
    }
   ],
   "source": [
    "%%time\n",
    "#import swifter\n",
    "\n",
    "# Source from CSV\n",
    "# Parallel apply\n",
    "df_sample      = df.sample(500)\n",
    "# map_embeddings = df_sample['image'].apply(lambda img: get_embedding(model, IMAGE_PATH, img))\n",
    "# Source from image folder directly\n",
    "\n",
    "# Source from folder directly\n",
    "map_embeddings = df_image_folder.sample(500)['name'].apply(lambda img: get_embedding(model, IMAGE_PATH, img))\n",
    "df_embs        = map_embeddings.apply(pd.Series)\n",
    "\n",
    "print(df_embs.shape)\n",
    "df_embs.head()"
   ]
  },
  {
   "cell_type": "code",
   "execution_count": 236,
   "metadata": {},
   "outputs": [
    {
     "data": {
      "text/plain": [
       "array([[0.99999887, 0.6863299 , 0.5486607 , 0.53873605],\n",
       "       [0.6863299 , 1.        , 0.45236355, 0.41876113],\n",
       "       [0.5486607 , 0.45236355, 1.        , 0.65983975],\n",
       "       [0.53873605, 0.41876113, 0.65983975, 0.9999984 ]], dtype=float32)"
      ]
     },
     "execution_count": 236,
     "metadata": {},
     "output_type": "execute_result"
    }
   ],
   "source": [
    "# https://scikit-learn.org/stable/modules/generated/sklearn.metrics.pairwise_distances.html\n",
    "from sklearn.metrics.pairwise import pairwise_distances\n",
    "\n",
    "# Calcule DIstance Matriz\n",
    "cosine_sim = 1-pairwise_distances(df_embs, metric='cosine')\n",
    "\n",
    "cosine_sim[:4, :4]"
   ]
  },
  {
   "cell_type": "code",
   "execution_count": 237,
   "metadata": {},
   "outputs": [
    {
     "name": "stdout",
     "output_type": "stream",
     "text": [
      "[0.99999887 0.6863299  0.5486607  0.53873605 0.630236   0.5268971\n",
      " 0.72945464 0.6977411  0.6696831  0.51344484 0.58854604 0.7551022\n",
      " 0.7137504  0.72627807 0.5235927  0.717732   0.48650765 0.617037\n",
      " 0.6997942  0.5282268  0.5560293  0.47652745 0.47161365 0.47849\n",
      " 0.5774628  0.4587524  0.5148022  0.7303305  0.7174036  0.539893\n",
      " 0.7447143  0.5402751  0.65287954 0.5080012  0.47540426 0.6199073\n",
      " 0.5935357  0.72264475 0.504616   0.56120086 0.52224386 0.7269075\n",
      " 0.7297301  0.5673607  0.71682346 0.45672953 0.72731966 0.5382\n",
      " 0.4683057  0.7348054  0.58101165 0.53888917 0.5765546  0.7145524\n",
      " 0.5903301  0.5459831  0.53138596 0.7209069  0.76899564 0.5250998\n",
      " 0.40625387 0.5045361  0.45846194 0.5302912  0.57052135 0.7753642\n",
      " 0.7266836  0.7663618  0.47554886 0.5602233  0.49958754 0.73198676\n",
      " 0.5190548  0.4424973  0.74290216 0.71155375 0.4770093  0.5796474\n",
      " 0.7020786  0.71535176 0.6789619  0.6188413  0.6469958  0.5350463\n",
      " 0.75099003 0.67772347 0.7001279  0.51627266 0.7115735  0.47940946\n",
      " 0.6546203  0.6532373  0.71853465 0.76172155 0.75642926 0.5789147\n",
      " 0.50717896 0.55235463 0.5280423  0.48952156 0.7666385  0.60095537\n",
      " 0.59771436 0.4719969  0.51680696 0.75331914 0.5636254  0.7110566\n",
      " 0.5927167  0.69953424 0.52463853 0.49356198 0.47783434 0.65288967\n",
      " 0.75295293 0.4841333  0.5101207  0.56311893 0.43683094 0.52386403\n",
      " 0.5100956  0.7165626  0.5367315  0.7397218  0.6041653  0.75477123\n",
      " 0.44781852 0.5049995  0.5155479  0.64877886 0.5114843  0.4884044\n",
      " 0.54438436 0.7136671  0.50274837 0.74121505 0.49922693 0.46728915\n",
      " 0.7136713  0.667083   0.4482478  0.5659636  0.6514697  0.5201356\n",
      " 0.77245927 0.51888525 0.48071337 0.7035289  0.5350289  0.5101952\n",
      " 0.68397963 0.551157   0.722364   0.5677813  0.5205051  0.75718\n",
      " 0.6741092  0.71975374 0.5320591  0.6519724  0.71455    0.7046697\n",
      " 0.4593011  0.7401818  0.6391733  0.49208778 0.721198   0.44346958\n",
      " 0.5428081  0.6571511  0.51811415 0.60240656 0.53638625 0.5098126\n",
      " 0.72348    0.52340466 0.5361392  0.45706975 0.779978   0.46294248\n",
      " 0.5796555  0.73106694 0.57575524 0.59199965 0.60304403 0.52818024\n",
      " 0.5503444  0.6972868  0.4329275  0.7073281  0.5637107  0.5522947\n",
      " 0.45169765 0.6010677  0.49366307 0.4925112  0.53171146 0.7333332\n",
      " 0.57262427 0.6899089  0.7105558  0.7466659  0.68920124 0.7072772\n",
      " 0.5175935  0.53474754 0.6673487  0.7757224  0.67144084 0.47020334\n",
      " 0.50414443 0.6087292  0.56231624 0.601472   0.4848081  0.5414398\n",
      " 0.7573489  0.54411656 0.4743123  0.5530604  0.50164354 0.51478934\n",
      " 0.53904396 0.48444325 0.52867526 0.44201922 0.530069   0.63152385\n",
      " 0.44086003 0.5341506  0.5353793  0.51481104 0.60953003 0.7821643\n",
      " 0.54093266 0.71290606 0.4676082  0.6574456  0.7207744  0.7018635\n",
      " 0.4961459  0.4810987  0.65656984 0.7294363  0.5132211  0.7479349\n",
      " 0.7169019  0.68355685 0.6360282  0.49547994 0.51506555 0.68649006\n",
      " 0.681565   0.71118116 0.71859974 0.70412433 0.7302831  0.6712943\n",
      " 0.5099099  0.540217   0.7123836  0.68270624 0.7116651  0.55255824\n",
      " 0.62817514 0.6857055  0.7706415  0.66100854 0.56459993 0.7258427\n",
      " 0.73002756 0.7221976  0.5323614  0.57074434 0.7097245  0.7399315\n",
      " 0.7393789  0.5402466  0.73213226 0.57079285 0.57990074 0.55680525\n",
      " 0.6341186  0.54597574 0.62856555 0.77237767 0.4748268  0.5452958\n",
      " 0.6857823  0.67292184 0.64570445 0.69918996 0.61844486 0.59508085\n",
      " 0.72471446 0.6797664  0.6608417  0.72677696 0.68405885 0.55275756\n",
      " 0.69046104 0.52190644 0.6977896  0.4410107  0.5100035  0.51233137\n",
      " 0.5187315  0.48052418 0.73976874 0.5796015  0.5762785  0.5034871\n",
      " 0.70741105 0.4831648  0.6998739  0.46374243 0.56130236 0.52562875\n",
      " 0.59085846 0.45680588 0.48644996 0.5487931  0.45835602 0.7117691\n",
      " 0.67316973 0.5173249  0.7108425  0.51929307 0.5711017  0.72331375\n",
      " 0.56475586 0.7267246  0.71363187 0.4954329  0.7154832  0.500127\n",
      " 0.7463484  0.7091322  0.75635123 0.51314944 0.54719096 0.48159552\n",
      " 0.5272405  0.57596636 0.69862306 0.67011493 0.5680449  0.5023402\n",
      " 0.5134618  0.5817902  0.67547834 0.5071175  0.5386554  0.5217136\n",
      " 0.7712401  0.51153547 0.6255617  0.48258698 0.63491523 0.47361928\n",
      " 0.4952005  0.69628084 0.5462679  0.70015335 0.47377574 0.5383997\n",
      " 0.5696175  0.4956181  0.59724134 0.47622365 0.4909538  0.5356098\n",
      " 0.51229626 0.46405315 0.64379364 0.49025524 0.503983   0.46773005\n",
      " 0.66627145 0.49051952 0.5013623  0.67474157 0.497581   0.53109735\n",
      " 0.6013208  0.70794296 0.74102765 0.54346347 0.7443302  0.46455145\n",
      " 0.47361237 0.6264268  0.7082589  0.74613553 0.74408835 0.5348203\n",
      " 0.71430403 0.42313683 0.5290986  0.57386667 0.72608054 0.5475374\n",
      " 0.5755464  0.7464822  0.7404006  0.72468936 0.50241244 0.48594534\n",
      " 0.58786106 0.63239884 0.51494217 0.46492922 0.7505473  0.55797946\n",
      " 0.5320278  0.5243431  0.7191241  0.5489578  0.7066561  0.5621436\n",
      " 0.73719907 0.5515948  0.5156598  0.60561734 0.60468304 0.6289641\n",
      " 0.6623933  0.50355464 0.5756929  0.6874732  0.65836835 0.54633474\n",
      " 0.49773705 0.52390915 0.54290646 0.4928264  0.49677032 0.60330945\n",
      " 0.5827747  0.574985   0.4995612  0.7171527  0.698662   0.7185661\n",
      " 0.5044187  0.5017606  0.49309593 0.50397325 0.7162831  0.5474439\n",
      " 0.5471992  0.48489177 0.74609745 0.74401224 0.52321255 0.6836153\n",
      " 0.7365845  0.4811914  0.45937014 0.5075628  0.5276128  0.52208036\n",
      " 0.54915595 0.54615754 0.5618232  0.6510833  0.5383827  0.69481885\n",
      " 0.53435886 0.51857734 0.4783318  0.5458616  0.48353666 0.6000394\n",
      " 0.6044753  0.52756155 0.7390008  0.45892334 0.61191493 0.76269186\n",
      " 0.6437215  0.74482983 0.4929368  0.43826067 0.43177593 0.66665566\n",
      " 0.5447343  0.7027653  0.5523991  0.4629801  0.7575195  0.592478\n",
      " 0.5007495  0.5198027  0.45325089 0.68304545 0.52881306 0.716199\n",
      " 0.5815552  0.6908115 ]\n"
     ]
    }
   ],
   "source": [
    "print(cosine_sim[0])"
   ]
  },
  {
   "cell_type": "code",
   "execution_count": 238,
   "metadata": {},
   "outputs": [
    {
     "name": "stdout",
     "output_type": "stream",
     "text": [
      "[(393, 0.7781141), (71, 0.7713495), (91, 0.76418877), (75, 0.7632066), (270, 0.7630209)]\n"
     ]
    }
   ],
   "source": [
    "# indices = pd.Series(range(len(df_embs)), index=df.index)\n",
    "print(get_recommendation(cosine_sim, 133, top_n = 5))\n",
    "# print(indices)"
   ]
  },
  {
   "cell_type": "code",
   "execution_count": null,
   "metadata": {},
   "outputs": [],
   "source": [
    "# Idx Item to Recommender\n",
    "idx_ref = 388\n",
    "\n",
    "\n",
    "# Recommendations\n",
    "#idx_rec, idx_sim = get_recommender(indices, idx_ref, top_n = 6)\n",
    "\n",
    "recommendations = get_recommendation(cosine_sim, idx_ref, top_n = 5)\n",
    "print(recommendations)\n",
    "\n",
    "\n",
    "# Plot\n",
    "#===================\n",
    "# plt.imshow(cv2.cvtColor(load_image(IMAGE_PATH, df.iloc[idx_ref].image), cv2.COLOR_BGR2RGB))\n",
    "plt.imshow(cv2.cvtColor(load_image(IMAGE_PATH, df_image_folder.iloc[idx_ref][0]), cv2.COLOR_BGR2RGB))\n",
    "\n",
    "# generation of a dictionary of (title, images)\n",
    "#figures = {'im'+str(i): load_image(IMAGE_PATH,row.image) for i, row in df.loc[idx_rec].iterrows()}\n",
    "# figures = {'im'+str(i): load_image(IMAGE_PATH,row[0]) for i, row in df_image_folder.loc[idx_rec].iterrows()}\n",
    "\n",
    "figures = {}\n",
    "for rec in recommendations:\n",
    "    figures[rec[0]] = load_image(IMAGE_PATH, df_image_folder.loc[rec[0]][0])\n",
    "# figures = {'im'+str(rec[1]): load_image(IMAGE_PATH, df_image_folder.loc[rec[0]][0]) }\n",
    "#print(figures)\n",
    "# plot of the images in a figure, with 2 rows and 3 columns\n",
    "plot_figures(figures, 2, 3)"
   ]
  },
  {
   "cell_type": "code",
   "execution_count": null,
   "metadata": {},
   "outputs": [],
   "source": []
  },
  {
   "cell_type": "code",
   "execution_count": null,
   "metadata": {},
   "outputs": [],
   "source": []
  }
 ],
 "metadata": {
  "kernelspec": {
   "display_name": "Python 3",
   "language": "python",
   "name": "python3"
  },
  "language_info": {
   "codemirror_mode": {
    "name": "ipython",
    "version": 3
   },
   "file_extension": ".py",
   "mimetype": "text/x-python",
   "name": "python",
   "nbconvert_exporter": "python",
   "pygments_lexer": "ipython3",
   "version": "3.7.6"
  }
 },
 "nbformat": 4,
 "nbformat_minor": 4
}
